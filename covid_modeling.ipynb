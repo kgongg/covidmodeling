{
 "cells": [
  {
   "cell_type": "code",
   "execution_count": 244,
   "id": "7742c77f",
   "metadata": {
    "deletable": false,
    "editable": false
   },
   "outputs": [],
   "source": [
    "# Initialize Otter\n",
    "import otter\n",
    "grader = otter.Notebook(\"covid_part2.ipynb\")"
   ]
  },
  {
   "cell_type": "markdown",
   "id": "2a2811cb",
   "metadata": {},
   "source": [
    "## Goal\n",
    "\n",
    "Model and analyze the temporal evolution of COVID-19 mortalities or cases using one unsupervised and one supervised technique of your choice. Interpret your models' results through visualizations, and draw insightful conclusions about the modeling of COVID-19 data.\n",
    "\n",
    "Recall that we studied linear and logistic regression, decision trees, random forests as part of supervised learning (with labels) and clustering, PCA as part of unsupervised learning (without labels). You are free to use any methods that you find suitable to answer the problem at hand."
   ]
  },
  {
   "cell_type": "code",
   "execution_count": 245,
   "id": "9c01af05",
   "metadata": {},
   "outputs": [],
   "source": [
    "# Run this cell to set up your notebook\n",
    "import numpy as np\n",
    "from geopy import *\n",
    "import pandas as pd\n",
    "from sklearn.linear_model import LinearRegression\n",
    "from sklearn.model_selection import train_test_split\n",
    "from sklearn.cluster import *\n",
    "import matplotlib.pyplot as plt\n",
    "import seaborn as sns\n",
    "\n",
    "import warnings\n",
    "warnings.filterwarnings(\"ignore\")\n",
    "\n",
    "import plotly.graph_objects as go\n",
    "import plotly.express as px\n",
    "from plotly.subplots import make_subplots\n",
    "from scipy.stats import pearsonr\n",
    "import re\n",
    "\n",
    "cases = pd.read_csv('data/time_series_covid19_confirmed_US.csv') # https://github.com/CSSEGISandData/COVID-19/blob/master/csse_covid_19_data/csse_covid_19_time_series/time_series_covid19_confirmed_US.csv\n",
    "vaccinations = pd.read_csv('data/people_vaccinated_us_timeline.csv') # https://raw.githubusercontent.com/govex/COVID-19/master/data_tables/vaccine_data/us_data/time_series/people_vaccinated_us_timeline.csv\n",
    "counties = pd.read_csv('data/co-est2020.csv', encoding='latin-1') # https://www2.census.gov/programs-surveys/popest/datasets/2010-2020/counties/totals/co-est2020.csv\n",
    "mask_use = pd.read_csv('data/mask-use-by-county.csv') # https://github.com/nytimes/covid-19-data/blob/master/mask-use/mask-use-by-county.csv"
   ]
  },
  {
   "cell_type": "markdown",
   "id": "1f4b18d3",
   "metadata": {},
   "source": [
    "<br/><br/><br/>\n",
    "\n",
    "---\n",
    "\n",
    "<br/><br/><br/>\n",
    "\n",
    "## Data Cleaning (Again!)\n",
    "\n",
    "For this section, please copy over the appropriate answers from your previous notebook submission."
   ]
  },
  {
   "cell_type": "markdown",
   "id": "f4e6efb9",
   "metadata": {
    "deletable": false,
    "editable": false
   },
   "source": [
    "### Part 1: Question 1a\n",
    "\n",
    "Impute the null values in *all* the datasets with zero values or empty strings where appropriate.\n",
    "\n",
    "<!--\n",
    "BEGIN QUESTION\n",
    "name: q1a\n",
    "points: 0\n",
    "-->"
   ]
  },
  {
   "cell_type": "code",
   "execution_count": 246,
   "id": "dd43134a",
   "metadata": {},
   "outputs": [],
   "source": [
    "vaccinations = vaccinations.fillna(0)\n",
    "cases['Admin2'] = cases['Admin2'].fillna('')\n",
    "cases = cases.fillna(0)"
   ]
  },
  {
   "cell_type": "code",
   "execution_count": 247,
   "id": "f42e23fb",
   "metadata": {
    "deletable": false,
    "editable": false
   },
   "outputs": [
    {
     "data": {
      "text/html": [
       "<p><strong><pre style='display: inline;'>q1a</pre></strong> passed!</p>"
      ],
      "text/plain": [
       "q1a results: All test cases passed!"
      ]
     },
     "execution_count": 247,
     "metadata": {},
     "output_type": "execute_result"
    }
   ],
   "source": [
    "grader.check(\"q1a\")"
   ]
  },
  {
   "cell_type": "markdown",
   "id": "32fdc73c",
   "metadata": {
    "deletable": false,
    "editable": false
   },
   "source": [
    "### Part 1: Question 1d\n",
    "\n",
    "Generate a valid FIPS code for the `counties` table.\n",
    "\n",
    "*Hint*: Refer to [this](https://transition.fcc.gov/oet/info/maps/census/fips/fips.txt) guide on FIPS codes.\n",
    "\n",
    "<!--\n",
    "BEGIN QUESTION\n",
    "name: q1d\n",
    "points: 0\n",
    "-->"
   ]
  },
  {
   "cell_type": "code",
   "execution_count": 248,
   "id": "8869affb",
   "metadata": {},
   "outputs": [],
   "source": [
    "counties['FIPS'] = counties['STATE'] * 1000 + counties['COUNTY']"
   ]
  },
  {
   "cell_type": "code",
   "execution_count": 249,
   "id": "f936214a",
   "metadata": {
    "deletable": false,
    "editable": false
   },
   "outputs": [
    {
     "data": {
      "text/html": [
       "<p><strong><pre style='display: inline;'>q1d</pre></strong> passed!</p>"
      ],
      "text/plain": [
       "q1d results: All test cases passed!"
      ]
     },
     "execution_count": 249,
     "metadata": {},
     "output_type": "execute_result"
    }
   ],
   "source": [
    "grader.check(\"q1d\")"
   ]
  },
  {
   "cell_type": "markdown",
   "id": "5851d0b6",
   "metadata": {
    "deletable": false,
    "editable": false
   },
   "source": [
    "### Part 1: Question 1e\n",
    "\n",
    "Merge the `counties`, `cases`, and `mask_use` tables on an appropriate primary key to generate county-wise data.\n",
    "\n",
    "<!--\n",
    "BEGIN QUESTION\n",
    "name: q1e\n",
    "points: 0\n",
    "-->"
   ]
  },
  {
   "cell_type": "code",
   "execution_count": 250,
   "id": "3730e8a2",
   "metadata": {},
   "outputs": [
    {
     "data": {
      "text/html": [
       "<div>\n",
       "<style scoped>\n",
       "    .dataframe tbody tr th:only-of-type {\n",
       "        vertical-align: middle;\n",
       "    }\n",
       "\n",
       "    .dataframe tbody tr th {\n",
       "        vertical-align: top;\n",
       "    }\n",
       "\n",
       "    .dataframe thead th {\n",
       "        text-align: right;\n",
       "    }\n",
       "</style>\n",
       "<table border=\"1\" class=\"dataframe\">\n",
       "  <thead>\n",
       "    <tr style=\"text-align: right;\">\n",
       "      <th></th>\n",
       "      <th>SUMLEV</th>\n",
       "      <th>REGION</th>\n",
       "      <th>DIVISION</th>\n",
       "      <th>STATE</th>\n",
       "      <th>COUNTY</th>\n",
       "      <th>STNAME</th>\n",
       "      <th>CTYNAME</th>\n",
       "      <th>CENSUS2010POP</th>\n",
       "      <th>ESTIMATESBASE2010</th>\n",
       "      <th>POPESTIMATE2010</th>\n",
       "      <th>...</th>\n",
       "      <th>9/9/21</th>\n",
       "      <th>9/10/21</th>\n",
       "      <th>9/11/21</th>\n",
       "      <th>9/12/21</th>\n",
       "      <th>COUNTYFP</th>\n",
       "      <th>NEVER</th>\n",
       "      <th>RARELY</th>\n",
       "      <th>SOMETIMES</th>\n",
       "      <th>FREQUENTLY</th>\n",
       "      <th>ALWAYS</th>\n",
       "    </tr>\n",
       "  </thead>\n",
       "  <tbody>\n",
       "    <tr>\n",
       "      <th>0</th>\n",
       "      <td>50</td>\n",
       "      <td>3</td>\n",
       "      <td>6</td>\n",
       "      <td>1</td>\n",
       "      <td>1</td>\n",
       "      <td>Alabama</td>\n",
       "      <td>Autauga County</td>\n",
       "      <td>54571</td>\n",
       "      <td>54582</td>\n",
       "      <td>54761</td>\n",
       "      <td>...</td>\n",
       "      <td>9145</td>\n",
       "      <td>9207</td>\n",
       "      <td>9246</td>\n",
       "      <td>9287</td>\n",
       "      <td>1001</td>\n",
       "      <td>0.053</td>\n",
       "      <td>0.074</td>\n",
       "      <td>0.134</td>\n",
       "      <td>0.295</td>\n",
       "      <td>0.444</td>\n",
       "    </tr>\n",
       "    <tr>\n",
       "      <th>1</th>\n",
       "      <td>50</td>\n",
       "      <td>3</td>\n",
       "      <td>6</td>\n",
       "      <td>1</td>\n",
       "      <td>3</td>\n",
       "      <td>Alabama</td>\n",
       "      <td>Baldwin County</td>\n",
       "      <td>182265</td>\n",
       "      <td>182263</td>\n",
       "      <td>183121</td>\n",
       "      <td>...</td>\n",
       "      <td>34536</td>\n",
       "      <td>34726</td>\n",
       "      <td>34872</td>\n",
       "      <td>34950</td>\n",
       "      <td>1003</td>\n",
       "      <td>0.083</td>\n",
       "      <td>0.059</td>\n",
       "      <td>0.098</td>\n",
       "      <td>0.323</td>\n",
       "      <td>0.436</td>\n",
       "    </tr>\n",
       "    <tr>\n",
       "      <th>2</th>\n",
       "      <td>50</td>\n",
       "      <td>3</td>\n",
       "      <td>6</td>\n",
       "      <td>1</td>\n",
       "      <td>5</td>\n",
       "      <td>Alabama</td>\n",
       "      <td>Barbour County</td>\n",
       "      <td>27457</td>\n",
       "      <td>27454</td>\n",
       "      <td>27325</td>\n",
       "      <td>...</td>\n",
       "      <td>3243</td>\n",
       "      <td>3260</td>\n",
       "      <td>3282</td>\n",
       "      <td>3295</td>\n",
       "      <td>1005</td>\n",
       "      <td>0.067</td>\n",
       "      <td>0.121</td>\n",
       "      <td>0.120</td>\n",
       "      <td>0.201</td>\n",
       "      <td>0.491</td>\n",
       "    </tr>\n",
       "    <tr>\n",
       "      <th>3</th>\n",
       "      <td>50</td>\n",
       "      <td>3</td>\n",
       "      <td>6</td>\n",
       "      <td>1</td>\n",
       "      <td>7</td>\n",
       "      <td>Alabama</td>\n",
       "      <td>Bibb County</td>\n",
       "      <td>22915</td>\n",
       "      <td>22904</td>\n",
       "      <td>22858</td>\n",
       "      <td>...</td>\n",
       "      <td>3727</td>\n",
       "      <td>3752</td>\n",
       "      <td>3778</td>\n",
       "      <td>3795</td>\n",
       "      <td>1007</td>\n",
       "      <td>0.020</td>\n",
       "      <td>0.034</td>\n",
       "      <td>0.096</td>\n",
       "      <td>0.278</td>\n",
       "      <td>0.572</td>\n",
       "    </tr>\n",
       "    <tr>\n",
       "      <th>4</th>\n",
       "      <td>50</td>\n",
       "      <td>3</td>\n",
       "      <td>6</td>\n",
       "      <td>1</td>\n",
       "      <td>9</td>\n",
       "      <td>Alabama</td>\n",
       "      <td>Blount County</td>\n",
       "      <td>57322</td>\n",
       "      <td>57322</td>\n",
       "      <td>57372</td>\n",
       "      <td>...</td>\n",
       "      <td>9048</td>\n",
       "      <td>9095</td>\n",
       "      <td>9161</td>\n",
       "      <td>9176</td>\n",
       "      <td>1009</td>\n",
       "      <td>0.053</td>\n",
       "      <td>0.114</td>\n",
       "      <td>0.180</td>\n",
       "      <td>0.194</td>\n",
       "      <td>0.459</td>\n",
       "    </tr>\n",
       "    <tr>\n",
       "      <th>...</th>\n",
       "      <td>...</td>\n",
       "      <td>...</td>\n",
       "      <td>...</td>\n",
       "      <td>...</td>\n",
       "      <td>...</td>\n",
       "      <td>...</td>\n",
       "      <td>...</td>\n",
       "      <td>...</td>\n",
       "      <td>...</td>\n",
       "      <td>...</td>\n",
       "      <td>...</td>\n",
       "      <td>...</td>\n",
       "      <td>...</td>\n",
       "      <td>...</td>\n",
       "      <td>...</td>\n",
       "      <td>...</td>\n",
       "      <td>...</td>\n",
       "      <td>...</td>\n",
       "      <td>...</td>\n",
       "      <td>...</td>\n",
       "      <td>...</td>\n",
       "    </tr>\n",
       "    <tr>\n",
       "      <th>3136</th>\n",
       "      <td>50</td>\n",
       "      <td>4</td>\n",
       "      <td>8</td>\n",
       "      <td>56</td>\n",
       "      <td>37</td>\n",
       "      <td>Wyoming</td>\n",
       "      <td>Sweetwater County</td>\n",
       "      <td>43806</td>\n",
       "      <td>43806</td>\n",
       "      <td>43580</td>\n",
       "      <td>...</td>\n",
       "      <td>6034</td>\n",
       "      <td>6111</td>\n",
       "      <td>6111</td>\n",
       "      <td>6111</td>\n",
       "      <td>56037</td>\n",
       "      <td>0.061</td>\n",
       "      <td>0.295</td>\n",
       "      <td>0.230</td>\n",
       "      <td>0.146</td>\n",
       "      <td>0.268</td>\n",
       "    </tr>\n",
       "    <tr>\n",
       "      <th>3137</th>\n",
       "      <td>50</td>\n",
       "      <td>4</td>\n",
       "      <td>8</td>\n",
       "      <td>56</td>\n",
       "      <td>39</td>\n",
       "      <td>Wyoming</td>\n",
       "      <td>Teton County</td>\n",
       "      <td>21294</td>\n",
       "      <td>21298</td>\n",
       "      <td>21298</td>\n",
       "      <td>...</td>\n",
       "      <td>4587</td>\n",
       "      <td>4611</td>\n",
       "      <td>4611</td>\n",
       "      <td>4611</td>\n",
       "      <td>56039</td>\n",
       "      <td>0.095</td>\n",
       "      <td>0.157</td>\n",
       "      <td>0.160</td>\n",
       "      <td>0.247</td>\n",
       "      <td>0.340</td>\n",
       "    </tr>\n",
       "    <tr>\n",
       "      <th>3138</th>\n",
       "      <td>50</td>\n",
       "      <td>4</td>\n",
       "      <td>8</td>\n",
       "      <td>56</td>\n",
       "      <td>41</td>\n",
       "      <td>Wyoming</td>\n",
       "      <td>Uinta County</td>\n",
       "      <td>21118</td>\n",
       "      <td>21121</td>\n",
       "      <td>21090</td>\n",
       "      <td>...</td>\n",
       "      <td>3168</td>\n",
       "      <td>3204</td>\n",
       "      <td>3204</td>\n",
       "      <td>3204</td>\n",
       "      <td>56041</td>\n",
       "      <td>0.098</td>\n",
       "      <td>0.278</td>\n",
       "      <td>0.154</td>\n",
       "      <td>0.207</td>\n",
       "      <td>0.264</td>\n",
       "    </tr>\n",
       "    <tr>\n",
       "      <th>3139</th>\n",
       "      <td>50</td>\n",
       "      <td>4</td>\n",
       "      <td>8</td>\n",
       "      <td>56</td>\n",
       "      <td>43</td>\n",
       "      <td>Wyoming</td>\n",
       "      <td>Washakie County</td>\n",
       "      <td>8533</td>\n",
       "      <td>8528</td>\n",
       "      <td>8531</td>\n",
       "      <td>...</td>\n",
       "      <td>1111</td>\n",
       "      <td>1120</td>\n",
       "      <td>1120</td>\n",
       "      <td>1120</td>\n",
       "      <td>56043</td>\n",
       "      <td>0.204</td>\n",
       "      <td>0.155</td>\n",
       "      <td>0.069</td>\n",
       "      <td>0.285</td>\n",
       "      <td>0.287</td>\n",
       "    </tr>\n",
       "    <tr>\n",
       "      <th>3140</th>\n",
       "      <td>50</td>\n",
       "      <td>4</td>\n",
       "      <td>8</td>\n",
       "      <td>56</td>\n",
       "      <td>45</td>\n",
       "      <td>Wyoming</td>\n",
       "      <td>Weston County</td>\n",
       "      <td>7208</td>\n",
       "      <td>7208</td>\n",
       "      <td>7198</td>\n",
       "      <td>...</td>\n",
       "      <td>824</td>\n",
       "      <td>829</td>\n",
       "      <td>829</td>\n",
       "      <td>829</td>\n",
       "      <td>56045</td>\n",
       "      <td>0.142</td>\n",
       "      <td>0.129</td>\n",
       "      <td>0.148</td>\n",
       "      <td>0.207</td>\n",
       "      <td>0.374</td>\n",
       "    </tr>\n",
       "  </tbody>\n",
       "</table>\n",
       "<p>3141 rows × 638 columns</p>\n",
       "</div>"
      ],
      "text/plain": [
       "      SUMLEV  REGION  DIVISION  STATE  COUNTY   STNAME            CTYNAME  \\\n",
       "0         50       3         6      1       1  Alabama     Autauga County   \n",
       "1         50       3         6      1       3  Alabama     Baldwin County   \n",
       "2         50       3         6      1       5  Alabama     Barbour County   \n",
       "3         50       3         6      1       7  Alabama        Bibb County   \n",
       "4         50       3         6      1       9  Alabama      Blount County   \n",
       "...      ...     ...       ...    ...     ...      ...                ...   \n",
       "3136      50       4         8     56      37  Wyoming  Sweetwater County   \n",
       "3137      50       4         8     56      39  Wyoming       Teton County   \n",
       "3138      50       4         8     56      41  Wyoming       Uinta County   \n",
       "3139      50       4         8     56      43  Wyoming    Washakie County   \n",
       "3140      50       4         8     56      45  Wyoming      Weston County   \n",
       "\n",
       "     CENSUS2010POP  ESTIMATESBASE2010  POPESTIMATE2010  ...  9/9/21  9/10/21  \\\n",
       "0            54571              54582            54761  ...    9145     9207   \n",
       "1           182265             182263           183121  ...   34536    34726   \n",
       "2            27457              27454            27325  ...    3243     3260   \n",
       "3            22915              22904            22858  ...    3727     3752   \n",
       "4            57322              57322            57372  ...    9048     9095   \n",
       "...            ...                ...              ...  ...     ...      ...   \n",
       "3136         43806              43806            43580  ...    6034     6111   \n",
       "3137         21294              21298            21298  ...    4587     4611   \n",
       "3138         21118              21121            21090  ...    3168     3204   \n",
       "3139          8533               8528             8531  ...    1111     1120   \n",
       "3140          7208               7208             7198  ...     824      829   \n",
       "\n",
       "      9/11/21  9/12/21  COUNTYFP  NEVER  RARELY  SOMETIMES  FREQUENTLY  ALWAYS  \n",
       "0        9246     9287      1001  0.053   0.074      0.134       0.295   0.444  \n",
       "1       34872    34950      1003  0.083   0.059      0.098       0.323   0.436  \n",
       "2        3282     3295      1005  0.067   0.121      0.120       0.201   0.491  \n",
       "3        3778     3795      1007  0.020   0.034      0.096       0.278   0.572  \n",
       "4        9161     9176      1009  0.053   0.114      0.180       0.194   0.459  \n",
       "...       ...      ...       ...    ...     ...        ...         ...     ...  \n",
       "3136     6111     6111     56037  0.061   0.295      0.230       0.146   0.268  \n",
       "3137     4611     4611     56039  0.095   0.157      0.160       0.247   0.340  \n",
       "3138     3204     3204     56041  0.098   0.278      0.154       0.207   0.264  \n",
       "3139     1120     1120     56043  0.204   0.155      0.069       0.285   0.287  \n",
       "3140      829      829     56045  0.142   0.129      0.148       0.207   0.374  \n",
       "\n",
       "[3141 rows x 638 columns]"
      ]
     },
     "execution_count": 250,
     "metadata": {},
     "output_type": "execute_result"
    }
   ],
   "source": [
    "county_data = counties.merge(cases, on = 'FIPS').merge(mask_use, left_on = 'FIPS', right_on = 'COUNTYFP')\n",
    "\n",
    "county_data"
   ]
  },
  {
   "cell_type": "code",
   "execution_count": 251,
   "id": "7a0a0793",
   "metadata": {
    "deletable": false,
    "editable": false
   },
   "outputs": [
    {
     "data": {
      "text/html": [
       "<p><strong><pre style='display: inline;'>q1e</pre></strong> passed!</p>"
      ],
      "text/plain": [
       "q1e results: All test cases passed!"
      ]
     },
     "execution_count": 251,
     "metadata": {},
     "output_type": "execute_result"
    }
   ],
   "source": [
    "grader.check(\"q1e\")"
   ]
  },
  {
   "cell_type": "markdown",
   "id": "b7bb5b84",
   "metadata": {
    "tags": []
   },
   "source": [
    "<br/><br/><br/>\n",
    "\n",
    "---\n",
    "\n",
    "<br/><br/><br/>\n",
    "\n",
    "## Question 5: Guided Supervised Modeling\n",
    "\n",
    "This section will guide you through creating a supervised learning framework that will predict the number of COVID-19 cases per capita given various COVID-19 safety protocols that have been implemented. Then, we will investigate the bias, variance, and observational noise of this framework.\n",
    "\n",
    "Note that any answer responses without the appropriate work (i.e. code or math) will be subject to additional review and will not receive any credit."
   ]
  },
  {
   "cell_type": "markdown",
   "id": "a94355a0",
   "metadata": {
    "deletable": false,
    "editable": false
   },
   "source": [
    "<!-- BEGIN QUESTION -->\n",
    "\n",
    "### Question 5a\n",
    "\n",
    "We will use county-wise mask usage data to predict the number of COVID-19 cases on September 12th, 2021. Create a visualization that shows the pairwise correlation between each combination of column in the mask usage data and the number of COVID-19 cases.\n",
    "\n",
    "*Hint*: You should be plotting 36 correlations.\n",
    "<!--\n",
    "BEGIN QUESTION\n",
    "name: q5a\n",
    "points: 3\n",
    "manual: True\n",
    "-->"
   ]
  },
  {
   "cell_type": "code",
   "execution_count": 252,
   "id": "5d5060cc-e160-4ffb-845a-59da613e6543",
   "metadata": {},
   "outputs": [
    {
     "data": {
      "image/png": "[encoded data removed]",
      "text/plain": [
       "<Figure size 432x288 with 2 Axes>"
      ]
     },
     "metadata": {
      "needs_background": "light"
     },
     "output_type": "display_data"
    }
   ],
   "source": [
    "sns.heatmap(county_data[['9/12/21','NEVER','RARELY','SOMETIMES','FREQUENTLY','ALWAYS']].corr(), annot=True);"
   ]
  },
  {
   "cell_type": "markdown",
   "id": "d8860eb5",
   "metadata": {
    "deletable": false,
    "editable": false
   },
   "source": [
    "<!-- END QUESTION -->\n",
    "\n",
    "### Question 5b\n",
    "\n",
    "Train a linear regression model to predict the number of COVID-19 cases using county-wise mask usage data for September 12, 2021. Evaluate your model's RMSE on a held-out validation set with 33% of the county-wise data. When possible, make sure to set `random_state = 42` when splitting your data into training and test sets.\n",
    "<!--\n",
    "BEGIN QUESTION\n",
    "name: q5b\n",
    "points: 5\n",
    "-->"
   ]
  },
  {
   "cell_type": "code",
   "execution_count": 253,
   "id": "c917813e",
   "metadata": {},
   "outputs": [
    {
     "data": {
      "text/plain": [
       "(27834.430707426982, 62591.13087482178)"
      ]
     },
     "execution_count": 253,
     "metadata": {},
     "output_type": "execute_result"
    }
   ],
   "source": [
    "X_q5b = county_data.iloc[:, -5:]\n",
    "y_q5b = county_data['9/12/21']\n",
    "\n",
    "def rmse(y, y_pred):\n",
    "    return np.sqrt(np.mean((y-y_pred)**2))\n",
    "\n",
    "# Make sure to set random_state = 42 and test_size = 0.33!\n",
    "X_q5b_train, X_q5b_test = train_test_split(X_q5b, test_size = 0.33, random_state = 42)\n",
    "y_q5b_train, y_q5b_test = train_test_split(y_q5b, test_size = 0.33, random_state = 42)\n",
    "\n",
    "model = LinearRegression(fit_intercept=True)\n",
    "model.fit(X_q5b_train, y_q5b_train)\n",
    "\n",
    "y_q5b_train_predicted = model.predict(X_q5b_train)\n",
    "y_q5b_test_predicted = model.predict(X_q5b_test)\n",
    "\n",
    "\n",
    "train_rmse_cases = rmse(y_q5b_train, y_q5b_train_predicted)\n",
    "test_rmse_cases = rmse(y_q5b_test, y_q5b_test_predicted)\n",
    "\n",
    "train_rmse_cases, test_rmse_cases"
   ]
  },
  {
   "cell_type": "code",
   "execution_count": 254,
   "id": "6d3bcbd5",
   "metadata": {
    "deletable": false,
    "editable": false
   },
   "outputs": [
    {
     "data": {
      "text/html": [
       "<p><strong><pre style='display: inline;'>q5b</pre></strong> passed!</p>"
      ],
      "text/plain": [
       "q5b results: All test cases passed!"
      ]
     },
     "execution_count": 254,
     "metadata": {},
     "output_type": "execute_result"
    }
   ],
   "source": [
    "grader.check(\"q5b\")"
   ]
  },
  {
   "cell_type": "markdown",
   "id": "a07da3a5",
   "metadata": {
    "deletable": false,
    "editable": false
   },
   "source": [
    "<!-- BEGIN QUESTION -->\n",
    "\n",
    "### Question 5c\n",
    "\n",
    "Explain potential reasons the test set RMSE is much higher as compared to the training set RMSE.\n",
    "<!--\n",
    "BEGIN QUESTION\n",
    "name: q5c\n",
    "points: 3\n",
    "manual: True\n",
    "-->"
   ]
  },
  {
   "cell_type": "markdown",
   "id": "4fd63a7d",
   "metadata": {},
   "source": [
    "The test set RMSE is higher potentially due to overfitting due to the test size being 33%. Another potential reason is because the correlation between the X and Y isn't that high as found in 5a, so the RMSE is higher. "
   ]
  },
  {
   "cell_type": "markdown",
   "id": "5bbbb97c",
   "metadata": {
    "deletable": false,
    "editable": false
   },
   "source": [
    "<!-- END QUESTION -->\n",
    "\n",
    "### Question 5d\n",
    "\n",
    "Instead of predicting the number of COVID-19 cases, redo part (b) by predicting the number of cases per capita. Report the model's RMSE on the training and validation set.\n",
    "\n",
    "Comment on the relationship between the training and test RMSE by predicting the number of cases per capita instead of the total number of cases.\n",
    "<!--\n",
    "BEGIN QUESTION\n",
    "name: q5d\n",
    "points: 3\n",
    "-->"
   ]
  },
  {
   "cell_type": "code",
   "execution_count": 255,
   "id": "85dfd858",
   "metadata": {},
   "outputs": [
    {
     "data": {
      "text/plain": [
       "(0.03540985737823185, 0.038167903498916037)"
      ]
     },
     "execution_count": 255,
     "metadata": {},
     "output_type": "execute_result"
    }
   ],
   "source": [
    "X_q5d = county_data.iloc[:, -5:]\n",
    "y_q5d = county_data['9/12/21'] / county_data['POPESTIMATE2020']\n",
    "X_q5d_train, X_q5d_test =  train_test_split(X_q5d, test_size = 0.33, random_state = 42)\n",
    "y_q5d_train, y_q5d_test =  train_test_split(y_q5d, test_size = 0.33, random_state = 42)\n",
    "\n",
    "\n",
    "model = LinearRegression(fit_intercept=True)\n",
    "model.fit(X_q5d_train, y_q5d_train)\n",
    "\n",
    "y_q5d_train_predicted = model.predict(X_q5d_train)\n",
    "y_q5d_test_predicted = model.predict(X_q5d_test)\n",
    "\n",
    "\n",
    "train_rmse_cpc = rmse(y_q5d_train, y_q5d_train_predicted)\n",
    "test_rmse_cpc = rmse(y_q5d_test, y_q5d_test_predicted)\n",
    "\n",
    "train_rmse_cpc, test_rmse_cpc"
   ]
  },
  {
   "cell_type": "code",
   "execution_count": 256,
   "id": "bdbcb703",
   "metadata": {
    "deletable": false,
    "editable": false
   },
   "outputs": [
    {
     "data": {
      "text/html": [
       "<p><strong><pre style='display: inline;'>q5d</pre></strong> passed!</p>"
      ],
      "text/plain": [
       "q5d results: All test cases passed!"
      ]
     },
     "execution_count": 256,
     "metadata": {},
     "output_type": "execute_result"
    }
   ],
   "source": [
    "grader.check(\"q5d\")"
   ]
  },
  {
   "cell_type": "markdown",
   "id": "5c2215f3",
   "metadata": {
    "deletable": false,
    "editable": false
   },
   "source": [
    "<!-- BEGIN QUESTION -->\n",
    "\n",
    "### Question 5e\n",
    "\n",
    "Visualize the model outputs from part (d) by plotting the predictions $\\hat{y}$ versus the observations $y$. Comment on what the plot indicates about our linear model as a comment in the code cell.\n",
    "\n",
    "<!--\n",
    "BEGIN QUESTION\n",
    "name: q5e\n",
    "points: 3\n",
    "manual: True\n",
    "-->"
   ]
  },
  {
   "cell_type": "code",
   "execution_count": 257,
   "id": "8e59258f",
   "metadata": {},
   "outputs": [
    {
     "data": {
      "image/png": "[encoded data removed]",
      "text/plain": [
       "<Figure size 432x288 with 1 Axes>"
      ]
     },
     "metadata": {
      "needs_background": "light"
     },
     "output_type": "display_data"
    }
   ],
   "source": [
    "sns.scatterplot(y_q5d_test, y_q5d_test_predicted)\n",
    "plt.xlabel('Observed')\n",
    "plt.ylabel('Predicted')\n",
    "plt.title('Observed cases per capita vs predicted cases per capita');\n",
    "# The plot indicates that the model underpredicts the cases per capita"
   ]
  },
  {
   "cell_type": "markdown",
   "id": "fedb5469",
   "metadata": {
    "deletable": false,
    "editable": false
   },
   "source": [
    "<!-- END QUESTION -->\n",
    "\n",
    "### Question 5f\n",
    "\n",
    "We will investigate the bias and variance of this improved model on the test set using the bias-variance decomposition to formalize the behaviour of our model. To generate an empirical estimate of the errors and the parameters in the bias-variance decomposition, train 1000 bootstrapped models on the training dataset from part (d).\n",
    "\n",
    "<!--\n",
    "BEGIN QUESTION\n",
    "name: q5f\n",
    "points: 5\n",
    "-->"
   ]
  },
  {
   "cell_type": "code",
   "execution_count": 258,
   "id": "f7b7619b",
   "metadata": {},
   "outputs": [],
   "source": [
    "models = []\n",
    "for i in range(1000):\n",
    "    bootstrapped_X = X_q5d_train.sample(n = len(X_q5d_train), replace = True)\n",
    "    bootstrapped_y = y_q5d_train[bootstrapped_X.index]\n",
    "    model = LinearRegression(fit_intercept = True)\n",
    "    model.fit(bootstrapped_X, bootstrapped_y)\n",
    "    models.append(model)"
   ]
  },
  {
   "cell_type": "code",
   "execution_count": 259,
   "id": "5211469f",
   "metadata": {
    "deletable": false,
    "editable": false
   },
   "outputs": [
    {
     "data": {
      "text/html": [
       "<p><strong><pre style='display: inline;'>q5f</pre></strong> passed!</p>"
      ],
      "text/plain": [
       "q5f results: All test cases passed!"
      ]
     },
     "execution_count": 259,
     "metadata": {},
     "output_type": "execute_result"
    }
   ],
   "source": [
    "grader.check(\"q5f\")"
   ]
  },
  {
   "cell_type": "markdown",
   "id": "715760e0",
   "metadata": {
    "deletable": false,
    "editable": false
   },
   "source": [
    "### Question 5g\n",
    "\n",
    "To investigate the variance in our test predictions, we sample a particular test point $(x_i, y_i)$ such that $i = 100$. In other words, we will use the 100th point in the test set from part (d), `(X_q5d_test.iloc[100], y_q5d_test.iloc[100])` as the testing point.\n",
    "\n",
    "Generate predictions and square errors for this test point for all 1000 models, and calculate the *proportion* of the *expected* square error that is captured by the model prediction variance. In other words, we wish to estimate the following quantity:\n",
    "\n",
    "$$\n",
    "\\frac{\\mathrm{Var}(f_\\theta(x_i))}{\\mathrm{E}_\\theta[(y_i - f_\\theta(x_i))^2]}\n",
    "$$\n",
    "\n",
    "*Hint*: Refer to the bias-variance decomposition from lecture.\n",
    "<!--\n",
    "BEGIN QUESTION\n",
    "name: q5g\n",
    "points: 5\n",
    "-->"
   ]
  },
  {
   "cell_type": "code",
   "execution_count": 260,
   "id": "896ac261",
   "metadata": {},
   "outputs": [
    {
     "data": {
      "text/plain": [
       "0.0009765371044013854"
      ]
     },
     "execution_count": 260,
     "metadata": {},
     "output_type": "execute_result"
    }
   ],
   "source": [
    "predictions = []\n",
    "sq_errors = []\n",
    "for m in models:\n",
    "    pred = m.predict(np.array([X_q5d_test.iloc[100, :]]))\n",
    "    predictions.append(pred)\n",
    "    se = (y_q5d_test[100] - pred)**2\n",
    "    sq_errors.append(se)\n",
    "    \n",
    "variation = np.var(predictions)\n",
    "exp_sq_error = np.mean(sq_errors)\n",
    "prop_var = variation / exp_sq_error\n",
    "\n",
    "prop_var"
   ]
  },
  {
   "cell_type": "code",
   "execution_count": 261,
   "id": "4b7bcc0c",
   "metadata": {
    "deletable": false,
    "editable": false
   },
   "outputs": [
    {
     "data": {
      "text/html": [
       "<p><strong><pre style='display: inline;'>q5g</pre></strong> passed!</p>"
      ],
      "text/plain": [
       "q5g results: All test cases passed!"
      ]
     },
     "execution_count": 261,
     "metadata": {},
     "output_type": "execute_result"
    }
   ],
   "source": [
    "grader.check(\"q5g\")"
   ]
  },
  {
   "cell_type": "markdown",
   "id": "0b590da8",
   "metadata": {
    "deletable": false,
    "editable": false
   },
   "source": [
    "<!-- BEGIN QUESTION -->\n",
    "\n",
    "### Question 5h\n",
    "\n",
    "Using the bias-variance decomposition, comment on how much the variance of the model contributes to the error on the sample point above. We will extend this scenario to analyze the noise term in the bias-variance decomposition, specifically with regards to this COVID-19 dataset. Consider the following:\n",
    "\n",
    "i) Assuming no observational noise (i.e. $\\epsilon = 0$), what is the *magnitude* of the empirical model bias on this sample point?\n",
    "\n",
    "ii) Clearly, there is a non-trivial amount of observational noise with COVID-19 case data simply due to how testing works and occurs. Please take a look at [this article](https://fivethirtyeight.com/features/coronavirus-case-counts-are-meaningless/) for more information. Given this infomation, explain the issues with the assumptions and result in 5h(i).\n",
    "\n",
    "iii) Recall that we typically assume $y = g(x) + \\epsilon$, where $\\epsilon \\sim \\mathcal{N}(\\mu, \\sigma)$. In the theoretical setting for bias-variance, we have assumed $\\mu = 0, \\sigma > 0$. In this practical setting, analyze and determine how $\\epsilon$ could be modeled (as a normal distribution, but you may also consider how it could be modeled as another distribution). Are there any immediate issues with the assumptions we have made in the theoretical setting where $\\mu = 0, \\sigma > 0$? What conditions on $\\mu, \\sigma$ could be more appropriate and why?\n",
    "\n",
    "iv) Does the standard bias-variance decomposition presented in lecture hold given $\\epsilon$ being normally distributed according to your answer in part (iii)? If so, please explain why. If not, explain why it does not hold and if possible, how to modify the bias-variance decomposition to make it hold (i.e. perhaps there is an additional noise term $E[\\epsilon^3]$). \n",
    "\n",
    "*Hint*: Try to express $y = g(x) + \\epsilon$ by adding and subtracting a certain quantity.\n",
    "\n",
    "v) Intuitively, is it possible to minimize the true model bias to 0 given your $\\epsilon$ formulation in part (iii)? Why or why not? Justify your answer using part (iv) if possible.\n",
    "\n",
    "vi) Consider the infinite sample case where an oracle grants you as many samples as requested, and answer the same question in part (v). Is it possible to minimize the true model bias to 0 given your $\\epsilon$ formulation in part (iii)? Conclude with an analysis of what our modeling task can approximate using $X\\theta \\approx y$ in the finite and infinite sample case.\n",
    "\n",
    "<!--\n",
    "BEGIN QUESTION\n",
    "name: q5h\n",
    "points: 24\n",
    "manual: True\n",
    "-->"
   ]
  },
  {
   "cell_type": "markdown",
   "id": "f478bb92",
   "metadata": {},
   "source": [
    "i) random noise is only one component of a model's error. Without any observational noise, there is still the variance between the ground truth and the model (g(x) - Yhat). This bias is due to the sample points chosen to fit the model, so while the overall bias will be smaller, it is not 0.\n",
    "\n",
    "ii) as stated in the article, testing patterns are a large source of observational noise when it comes to COVID case data. We therefore cannot assume that there is 0 observational noise and the magnitude of model bias is larger than we anticipated in 5h(i). This is particularly because it's not necessarily random as the amount of tests being conducted can be scaled up or down and not be representative of how many cases there are in an area.\n",
    "\n",
    "iii) The issue with this assumption is that, as per the article, the data isn't actually centered around 0. Additionally, the noise isn't necessarily random, so better values of mu and sigma would take postitive cases in proportion to tests given into account. One condition on $\\mu$ that might be more appropriate is assuming $\\mu < 0$ since the article indicated that Covid-19 were being undercounted due to systematic error.\n",
    "\n",
    "iv) Since the noise $\\epsilon$ is nonrandom, the standard bias-variance decomposition presented in lecture would not hold, as $E(\\epsilon) \\neq 0$ in this scenario and given the condition in part (iii).  \n",
    "We can modify the bias-variance decomposition to make it hold by adding and subtracting $\\mu$ to $y = g(x) + \\epsilon$. A rederivation can then be done, since $E(\\epsilon -\\mu)$ is now equal to 0\n",
    "\n",
    "\\begin{gather*}\n",
    "Y = g(x) + \\mu + \\epsilon - \\mu \\\\\n",
    "g'(x) = g(x) + \\mu \\\\\n",
    "\\epsilon' = \\epsilon - \\mu\n",
    "\\end{gather*}\n",
    "\n",
    "  \n",
    "we can sub in $g'(x)$ and $\\epsilon'$ to the bias-variance decomposition from lecture to get:\n",
    "\n",
    "\\begin{align*}\n",
    "\\mathbb{E}\\big{(} (Y - \\hat{Y}(x))^{2} \\big{)} ~ & = ~ \\mathbb{E}((\\epsilon')^2) + \\mathbb{E}\\big{(} (g'(x) - \\mathbb{E}(\\hat{Y}(x))^2\\big{)} + \\mathbb{E}\\big{(} (\\hat{Y}(x) - \\mathbb{E}(\\hat{Y}(x))^{2} \\big{)} \\\\\n",
    "&= ~ \\sigma^2 + \\mathbb{E}\\big{(} ((g(x) + \\mu) - \\mathbb{E}(\\hat{Y}(x))^2\\big{)} + \\mathbb{E}\\big{(} (\\hat{Y}(x) - \\mathbb{E}(\\hat{Y}(x))^2 \\big{)}\n",
    "\\end{align*}\n",
    "\n",
    "\n",
    "v) It does not seem possible to minimize the true model bias to 0. Since $\\mu$ is now unknown, our modification to the bias-variance decomposition means that it cannot be minimized to 0.\n",
    "\n",
    "vi) In the infinite and finite sample case, it is still not possible for the model bias to be minimized to 0. This is because our modifications make it so we cannot approximate $g(x)$, only approximate $g'(x)$ can be approximated"
   ]
  },
  {
   "cell_type": "markdown",
   "id": "653f5fdb",
   "metadata": {
    "deletable": false,
    "editable": false
   },
   "source": [
    "<!-- END QUESTION -->\n",
    "\n",
    "### Question 5i\n",
    "\n",
    "Using the bias-variance decomposition for each test point, calculate the average variance and average test mean-square error across the entire test set from part (d). In other words, estimate the following quantities:\n",
    "\n",
    "$$\n",
    "\\frac{1}{n} \\sum_i \\mathrm{Var}(f_\\theta(x_i))\n",
    "$$\n",
    "\n",
    "and\n",
    "\n",
    "$$\n",
    "\\frac{1}{n} \\sum_i \\mathrm{E}_\\theta[(y_i - f_\\theta(x_i))^2]\n",
    "$$\n",
    "\n",
    "<!--\n",
    "BEGIN QUESTION\n",
    "name: q5i\n",
    "points: 5\n",
    "manual: False\n",
    "-->"
   ]
  },
  {
   "cell_type": "code",
   "execution_count": 262,
   "id": "9a207935",
   "metadata": {},
   "outputs": [
    {
     "data": {
      "text/plain": [
       "(4.000309696121709e-06, 0.0014608114130877266)"
      ]
     },
     "execution_count": 262,
     "metadata": {},
     "output_type": "execute_result"
    }
   ],
   "source": [
    "var = []\n",
    "mses = []\n",
    "for i, row in X_q5d_test.iterrows():\n",
    "    predictions = []\n",
    "    sq_errors = []\n",
    "    for m in models:\n",
    "        pred = m.predict(np.array([row]))\n",
    "        predictions.append(pred)\n",
    "        se = (y_q5d_test.loc[i] - pred)**2\n",
    "        sq_errors.append(se)\n",
    "\n",
    "    variation = np.var(predictions)\n",
    "    exp_sq_error = np.mean(sq_errors)\n",
    "    \n",
    "    var.append(variation)\n",
    "    mses.append(exp_sq_error)\n",
    "\n",
    "avg_var = np.mean(var)\n",
    "avg_mse = np.mean(mses)\n",
    "avg_var, avg_mse\n"
   ]
  },
  {
   "cell_type": "code",
   "execution_count": 263,
   "id": "8243a140",
   "metadata": {
    "deletable": false,
    "editable": false
   },
   "outputs": [
    {
     "data": {
      "text/html": [
       "<p><strong><pre style='display: inline;'>q5i</pre></strong> passed!</p>"
      ],
      "text/plain": [
       "q5i results: All test cases passed!"
      ]
     },
     "execution_count": 263,
     "metadata": {},
     "output_type": "execute_result"
    }
   ],
   "source": [
    "grader.check(\"q5i\")"
   ]
  },
  {
   "cell_type": "markdown",
   "id": "15d6f530",
   "metadata": {
    "deletable": false,
    "editable": false
   },
   "source": [
    "<!-- BEGIN QUESTION -->\n",
    "\n",
    "## Question 5j\n",
    "\n",
    "Propose a solution to reducing the mean square error using the insights gained from the bias-variance decomposition above. What are the values of the quantities that have we estimated and what can be concluded about the remaining quantities? Please show all work that informs your analysis.\n",
    "\n",
    "Assume that the standard bias-variance decomposition used in lecture can be applied here.\n",
    "<!--\n",
    "BEGIN QUESTION\n",
    "name: q5j\n",
    "points: 5\n",
    "manual: True\n",
    "-->"
   ]
  },
  {
   "cell_type": "markdown",
   "id": "99bbb2f5",
   "metadata": {},
   "source": [
    "One solution to reducing the mean square error (model risk) is to use regularization to control the bias and variance to avoid over and underfitting. The quantities that we have estimated for the bias-variance decomposition are the average mse (model risk) and average variance (model variance). Since the average mse in 5i is very close to 0, it can be conclusded that the sum of the remaining quantities in the bias variance decomposition from lecture (observation variance and model bias squared) is roughly -4 since the model variance was calculated to be 4"
   ]
  },
  {
   "cell_type": "markdown",
   "id": "e6f0f9b9",
   "metadata": {
    "tags": []
   },
   "source": [
    "<!-- END QUESTION -->\n",
    "\n",
    "\n",
    "\n",
    "<br/><br/><br/>\n",
    "\n",
    "---\n",
    "\n",
    "<br/><br/><br/>\n",
    "\n",
    "## Question 6: Open Supervised Modeling\n",
    "\n",
    "We wish to extend our modeling framework from Question 5 to make it more accurate; in other words, we wish to predict $f(x)$, a supervised learning output, based on past and current quantities. \n",
    "\n",
    "This section will serve as a rough guide on creating an autoregressive modeling framework for predicting a COVID-19 quantity of your choice (i.e. deaths, cases, vaccinations).\n",
    "\n",
    "Note that if you do not wish to pursue time-based modeling of COVID-19, you may skip parts (d), (e), and (f). That being said, you are strongly encouraged to incorporate time-based modeling into your open-ended modeling design since it constitutes a large component of the provided datasets.\n",
    "\n",
    "We will ***not*** grade these below questions individually (i.e. there are no points explicitly assigned to questions 6(a) to 6(f)); they are simply guiding questions and will be graded as part of the final project report. You should make sure to answer all of the questions (that are applicable to your open-ended modeling) in some form in the report."
   ]
  },
  {
   "cell_type": "markdown",
   "id": "4b1e3e64",
   "metadata": {
    "deletable": false,
    "editable": false
   },
   "source": [
    "<!-- BEGIN QUESTION -->\n",
    "\n",
    "### Question 6a\n",
    "\n",
    "Train a baseline model where $f$ is the model described in Question 0a and $x$ is a quantity of *your* choice. Note that you may used *any* supervised learning approach we have studied; you are not limited to a linear model.\n",
    "\n",
    "<!--\n",
    "BEGIN QUESTION\n",
    "name: q6a\n",
    "points: 0\n",
    "manual: True\n",
    "-->"
   ]
  },
  {
   "cell_type": "code",
   "execution_count": 264,
   "id": "c4f7a6ff-c7ad-42c5-b5ed-69b0e1a43048",
   "metadata": {},
   "outputs": [
    {
     "data": {
      "text/plain": [
       "(0.8842908798714343, 0.8539325842696629)"
      ]
     },
     "execution_count": 264,
     "metadata": {},
     "output_type": "execute_result"
    }
   ],
   "source": [
    "#Logistic Regression Model - model testing\n",
    "from sklearn.linear_model import LogisticRegression\n",
    "\n",
    "def get_party(diff):\n",
    "    # True for GOP, False for Democratic Party\n",
    "    if diff > 0:\n",
    "        return True\n",
    "    else:\n",
    "        return False\n",
    "\n",
    "election_results = pd.read_csv('data/election_results.csv')\n",
    "election_results['voted_GOP'] = election_results['per_point_diff'].apply(get_party)\n",
    "county_complete = pd.read_csv('data/county_complete.csv')\n",
    "county_complete = county_complete[['fips', 'area_2010']]\n",
    "county_data_copy = county_data.copy()\n",
    "county_data_copy['area'] = county_data.merge(right = county_complete, left_on = 'COUNTYFP', right_on = 'fips')['area_2010']\n",
    "county_data_copy['population_density'] = county_data_copy['POPESTIMATE2020'] / county_data_copy['area']\n",
    "covid_and_election = county_data_copy.merge(right=election_results, left_on='COUNTYFP', right_on='county_fips')\n",
    "covid_and_election['covid_per_cap'] = covid_and_election['11/1/20'] / covid_and_election['POPESTIMATE2020']\n",
    "\n",
    "X = covid_and_election[['NEVER','RARELY','SOMETIMES','FREQUENTLY','ALWAYS', 'covid_per_cap', 'population_density']]\n",
    "Y = covid_and_election['voted_GOP']\n",
    "\n",
    "x_train, x_test,y_train,y_test = train_test_split(X,Y, test_size=0.2, random_state=42)\n",
    "lr = LogisticRegression(fit_intercept=True, solver = 'lbfgs')\n",
    "lr.fit(x_train,y_train) \n",
    "train_accuracy = sum(lr.predict(x_train) == y_train) / len(x_train)\n",
    "test_accuracy = sum(lr.predict(x_test) == y_test) / len(x_test)\n",
    "\n",
    "train_accuracy, test_accuracy "
   ]
  },
  {
   "cell_type": "code",
   "execution_count": 265,
   "id": "772c0bda-1e4a-484c-9cd7-85508aa1b6f8",
   "metadata": {},
   "outputs": [
    {
     "data": {
      "text/plain": [
       "(0.9940017137960583, 0.877892030848329)"
      ]
     },
     "execution_count": 265,
     "metadata": {},
     "output_type": "execute_result"
    }
   ],
   "source": [
    "election_data = pd.read_csv(\"data/election_results.csv\")\n",
    "population_data = pd.read_csv(\"data/county_complete.csv\")\n",
    "\n",
    "model_data = county_data.merge(election_data, 'inner',left_on='COUNTYFP', right_on='county_fips')\n",
    "model_data = model_data.drop(['county_name', 'state_name', 'county_fips', 'CENSUS2010POP', 'ESTIMATESBASE2010', 'POPESTIMATE2010', 'POPESTIMATE2011', 'POPESTIMATE2012', 'POPESTIMATE2013', 'POPESTIMATE2014', 'POPESTIMATE2015', 'POPESTIMATE2016', 'POPESTIMATE2017', 'POPESTIMATE2018', 'POPESTIMATE2019'], axis=1)\n",
    "model_data = model_data[model_data['STNAME'] != 'Alaska']\n",
    "\n",
    "model_data['Dem'] = model_data['per_dem'] >= model_data['per_gop']\n",
    "model_data['median_increase'] = np.median(np.diff(model_data.iloc[:,20:305]), axis=1)\n",
    "model_data['total cases'] = np.sum(model_data.iloc[:,20:305], axis=1) / model_data['POPESTIMATE2020']\n",
    "model_data = model_data.merge(population_data, 'inner', left_on='COUNTYFP', right_on='fips')\n",
    "model_data['density'] = model_data['POPESTIMATE2020'] / model_data['area_2010']\n",
    "model_data['NRS'] = model_data['NEVER'] + model_data['RARELY'] + model_data['SOMETIMES']\n",
    "\n",
    "\n",
    "model_data['Dem'] = model_data['per_dem'] >= model_data['per_gop']\n",
    "model_data['total cases'] = np.sum(model_data.iloc[:,20:305], axis=1) / model_data['POPESTIMATE2020']\n",
    "\n",
    "from sklearn import ensemble\n",
    "train, test = train_test_split(model_data, test_size=0.25, random_state = 24)\n",
    "random_forest_model1 = ensemble.RandomForestClassifier(n_estimators=20, random_state = 24)\n",
    "random_forest_model1.fit(train[['ALWAYS', 'total cases', 'NEVER']], train['Dem'])\n",
    "\n",
    "rf_train_accuracy1 = random_forest_model1.score(train[['ALWAYS', 'total cases', 'NEVER']], train['Dem'])\n",
    "rf_test_accuracy1 = random_forest_model1.score(test[['ALWAYS', 'total cases', 'NEVER']], test['Dem'])\n",
    "\n",
    "rf_train_accuracy1, rf_test_accuracy1"
   ]
  },
  {
   "cell_type": "code",
   "execution_count": 266,
   "id": "acefba1a-e7d7-4bdd-9ae4-61aa77efcf2e",
   "metadata": {},
   "outputs": [
    {
     "data": {
      "image/png": "[encoded data removed]",
      "text/plain": [
       "<Figure size 432x288 with 2 Axes>"
      ]
     },
     "metadata": {
      "needs_background": "light"
     },
     "output_type": "display_data"
    }
   ],
   "source": [
    "from sklearn.metrics import confusion_matrix\n",
    "\n",
    "y_pred_test = random_forest_model1.predict(test[['ALWAYS', 'total cases', 'NEVER']])\n",
    "cm = confusion_matrix(test['Dem'], y_pred_test)\n",
    "sns.heatmap(cm, annot=True, fmt = 'd', cmap = 'Blues', annot_kws = {'size': 16})\n",
    "plt.xlabel('Predicted')\n",
    "plt.ylabel('Actual')\n",
    "plt.title('Confusion Matrix on test set with original model');"
   ]
  },
  {
   "cell_type": "code",
   "execution_count": 267,
   "id": "093c5c0e-6807-4072-8d30-4479b524c58f",
   "metadata": {},
   "outputs": [
    {
     "data": {
      "image/png": "[encoded data removed]",
      "text/plain": [
       "<Figure size 432x288 with 1 Axes>"
      ]
     },
     "metadata": {
      "needs_background": "light"
     },
     "output_type": "display_data"
    }
   ],
   "source": [
    "test['prediction'] = y_pred_test.astype(int)\n",
    "dem_counties = test[test['Dem'] == 1]\n",
    "sns.scatterplot(x=dem_counties['ALWAYS'], y=dem_counties['total cases'], hue = dem_counties['prediction']);\n",
    "plt.xlabel('Proportion that always wears masks')\n",
    "plt.legend([\"Republican\", \"Democrat\"]);"
   ]
  },
  {
   "cell_type": "markdown",
   "id": "1a3b8a40",
   "metadata": {
    "deletable": false,
    "editable": false
   },
   "source": [
    "<!-- END QUESTION -->\n",
    "\n",
    "<!-- BEGIN QUESTION -->\n",
    "\n",
    "### Question 6b\n",
    "\n",
    "Improve your model from part (a). Specify the supervised model you choose and write $f(x)$ as a function of the chosen features and parameters in your model. Justify why you chose these features and how you expect they will correlate with the output you wish to predict.\n",
    "\n",
    "<!--\n",
    "BEGIN QUESTION\n",
    "name: q6b\n",
    "points: 0\n",
    "manual: True\n",
    "-->"
   ]
  },
  {
   "cell_type": "code",
   "execution_count": 279,
   "id": "572a454a-5535-4db7-80ff-16cd1d10a7a2",
   "metadata": {},
   "outputs": [
    {
     "data": {
      "image/png": "[encoded data removed]",
      "text/plain": [
       "<Figure size 432x288 with 1 Axes>"
      ]
     },
     "metadata": {
      "needs_background": "light"
     },
     "output_type": "display_data"
    }
   ],
   "source": [
    "new5 = model_data.groupby('Dem').count()[['SUMLEV']].reset_index(level=0)\n",
    "new5.plot.bar(title='Count of Republican (0) counties vs Democratic (1) counties');"
   ]
  },
  {
   "cell_type": "code",
   "execution_count": 280,
   "id": "7eb63d92-4a1f-493d-b19e-993b9fc71c56",
   "metadata": {},
   "outputs": [
    {
     "data": {
      "image/png": "[encoded data removed]",
      "text/plain": [
       "<Figure size 432x288 with 1 Axes>"
      ]
     },
     "metadata": {
      "needs_background": "light"
     },
     "output_type": "display_data"
    }
   ],
   "source": [
    "plt = model_data[model_data['ALWAYS'] >= .8][['CTYNAME', 'Dem']].groupby('Dem').count().plot.bar(title = 'Number of Counties with greater than 80% -always- mask usage, by political leaning')"
   ]
  },
  {
   "cell_type": "code",
   "execution_count": 268,
   "id": "0ab91b78",
   "metadata": {},
   "outputs": [
    {
     "name": "stdout",
     "output_type": "stream",
     "text": [
      "Features sorted by their score for estimator 0:\n",
      "                 importance\n",
      "NRS                0.036544\n",
      "POPESTIMATE2020    0.033941\n",
      "ALWAYS             0.027585\n",
      "3/22/20            0.024891\n",
      "4/12/20            0.023958\n",
      "...                     ...\n",
      "1/23/20            0.000000\n",
      "2/15/20            0.000000\n",
      "2/14/20            0.000000\n",
      "2/13/20            0.000000\n",
      "1/22/20            0.000000\n",
      "\n",
      "[291 rows x 1 columns]\n",
      "Features sorted by their score for estimator 1:\n",
      "                 importance\n",
      "NRS                0.044203\n",
      "POPESTIMATE2020    0.038461\n",
      "3/30/20            0.029530\n",
      "ALWAYS             0.025167\n",
      "density            0.024144\n",
      "...                     ...\n",
      "2/14/20            0.000000\n",
      "2/13/20            0.000000\n",
      "2/12/20            0.000000\n",
      "3/8/20             0.000000\n",
      "1/22/20            0.000000\n",
      "\n",
      "[291 rows x 1 columns]\n",
      "Features sorted by their score for estimator 2:\n",
      "                 importance\n",
      "POPESTIMATE2020    0.034037\n",
      "ALWAYS             0.033856\n",
      "density            0.028230\n",
      "NRS                0.027002\n",
      "4/18/20            0.023235\n",
      "...                     ...\n",
      "2/18/20            0.000000\n",
      "2/17/20            0.000000\n",
      "2/16/20            0.000000\n",
      "2/15/20            0.000000\n",
      "1/22/20            0.000000\n",
      "\n",
      "[291 rows x 1 columns]\n",
      "Features sorted by their score for estimator 3:\n",
      "                 importance\n",
      "NRS                0.032811\n",
      "POPESTIMATE2020    0.031895\n",
      "ALWAYS             0.028358\n",
      "3/23/20            0.027893\n",
      "4/18/20            0.022734\n",
      "...                     ...\n",
      "2/18/20            0.000000\n",
      "2/17/20            0.000000\n",
      "2/16/20            0.000000\n",
      "2/15/20            0.000000\n",
      "1/22/20            0.000000\n",
      "\n",
      "[291 rows x 1 columns]\n",
      "Features sorted by their score for estimator 4:\n",
      "         importance\n",
      "NRS        0.032608\n",
      "3/23/20    0.026026\n",
      "density    0.023589\n",
      "ALWAYS     0.023433\n",
      "3/22/20    0.021943\n",
      "...             ...\n",
      "2/11/20    0.000000\n",
      "2/12/20    0.000000\n",
      "2/13/20    0.000000\n",
      "2/14/20    0.000000\n",
      "1/22/20    0.000000\n",
      "\n",
      "[291 rows x 1 columns]\n"
     ]
    }
   ],
   "source": [
    "from sklearn.model_selection import cross_validate\n",
    "cols = model_data.iloc[:,20:305].columns.tolist() + ['POPESTIMATE2020','ALWAYS','density', 'median_increase', 'total cases', 'NRS']\n",
    "X = train[cols]\n",
    "y = train['Dem']\n",
    "clf = ensemble.RandomForestClassifier(n_estimators=20, random_state = 24)\n",
    "output = cross_validate(clf, X, y, cv=5, scoring = 'accuracy', return_estimator =True)\n",
    "for idx,estimator in enumerate(output['estimator']):\n",
    "    print(\"Features sorted by their score for estimator {}:\".format(idx))\n",
    "    feature_importances = pd.DataFrame(estimator.feature_importances_,\n",
    "                                       index = X.columns,\n",
    "                                        columns=['importance']).sort_values('importance', ascending=False)\n",
    "    print(feature_importances)"
   ]
  },
  {
   "cell_type": "code",
   "execution_count": 269,
   "id": "a5abb4f3-9258-4d06-b7f6-2fbd190ccc78",
   "metadata": {},
   "outputs": [
    {
     "data": {
      "text/plain": [
       "(0.99528706083976, 0.910025706940874)"
      ]
     },
     "execution_count": 269,
     "metadata": {},
     "output_type": "execute_result"
    }
   ],
   "source": [
    "random_forest_model2 = ensemble.RandomForestClassifier(n_estimators=20, random_state = 24)\n",
    "random_forest_model2.fit(train[['POPESTIMATE2020','ALWAYS', '11/1/20', 'density','3/22/20', 'total cases', 'NRS']], train['Dem'])\n",
    "\n",
    "rf_train_accuracy2 = random_forest_model2.score(train[['POPESTIMATE2020','ALWAYS', '11/1/20', 'density','3/22/20', 'total cases', 'NRS']], train['Dem'])\n",
    "rf_test_accuracy2 = random_forest_model2.score(test[['POPESTIMATE2020','ALWAYS', '11/1/20', 'density','3/22/20', 'total cases', 'NRS']], test['Dem'])\n",
    "rf_train_accuracy2, rf_test_accuracy2"
   ]
  },
  {
   "cell_type": "code",
   "execution_count": 270,
   "id": "9c3856b0-e962-48aa-8955-1e55b235bbd7",
   "metadata": {},
   "outputs": [
    {
     "data": {
      "image/png": "[encoded data removed]",
      "text/plain": [
       "<Figure size 432x288 with 2 Axes>"
      ]
     },
     "metadata": {
      "needs_background": "light"
     },
     "output_type": "display_data"
    }
   ],
   "source": [
    "y_pred2 = random_forest_model2.predict(test[['POPESTIMATE2020','ALWAYS', '11/1/20', 'density','3/22/20', 'total cases', 'NRS']])\n",
    "cm2 = confusion_matrix(test['Dem'], y_pred2)\n",
    "sns.heatmap(cm2, annot=True, fmt = 'd', cmap = 'Blues', annot_kws = {'size': 16})\n",
    "plt.xlabel('Predicted')\n",
    "plt.ylabel('Actual');\n",
    "plt.title('Confusion Matrix on test set with improved model');"
   ]
  },
  {
   "cell_type": "markdown",
   "id": "437c904d-d8ab-49cf-9b57-690cec7851f8",
   "metadata": {
    "deletable": false,
    "editable": false
   },
   "source": [
    "<!-- END QUESTION -->\n",
    "\n",
    "<!-- BEGIN QUESTION -->\n",
    "\n",
    "### Question 6c\n",
    "\n",
    "If applicable, write an equation or rule for the prediction function $f(x)$; if this is infeasible, make sure to visualize your model parameters in some way. Interpret your improved model's optimal parameters (*hint*: refer to 1aiii), and compare these parameters to those of the baseline model. Comment on whether the parameters follow physical intuition given the nature of the prediction task.\n",
    "\n",
    "For example, if you chose to use a decision tree, you may interpret the generated rules.\n",
    " \n",
    "<!--\n",
    "BEGIN QUESTION\n",
    "name: q6c\n",
    "points: 0\n",
    "manual: True\n",
    "-->"
   ]
  },
  {
   "cell_type": "markdown",
   "id": "16b89e46",
   "metadata": {
    "deletable": false,
    "editable": false
   },
   "source": [
    "<!-- END QUESTION -->\n",
    "\n",
    "<!-- BEGIN QUESTION -->\n",
    "\n",
    "### Question 6d\n",
    "\n",
    "Discuss your improved model's performance on both short-term and long-term time scales using a metric of your choice (*hint:* we're using an autoregressive model). In other words, given $x_t$, we wish to predict $\\hat{x}_{t+k}$, and plot the error of these predictions for two $k$ values of your choice. You may use any reasonable interpretation of short-term and long-term predictions; an initial suggestion is to use 2-day predictions and 2-week predictions.\n",
    "\n",
    "Compare the performance of this model on both timescales with the baseline model.\n",
    "\n",
    "<!--\n",
    "BEGIN QUESTION\n",
    "name: q6d\n",
    "points: 0\n",
    "manual: True\n",
    "-->"
   ]
  },
  {
   "cell_type": "code",
   "execution_count": 271,
   "id": "605e7549",
   "metadata": {},
   "outputs": [
    {
     "data": {
      "text/plain": [
       "Ellipsis"
      ]
     },
     "execution_count": 271,
     "metadata": {},
     "output_type": "execute_result"
    }
   ],
   "source": [
    "..."
   ]
  },
  {
   "cell_type": "markdown",
   "id": "74ba1ff2",
   "metadata": {
    "deletable": false,
    "editable": false
   },
   "source": [
    "<!-- END QUESTION -->\n",
    "\n",
    "<!-- BEGIN QUESTION -->\n",
    "\n",
    "### Question 6e\n",
    "\n",
    "Plot and describe the error for both the baseline and improved models as a function of time. In other words, given $x_t$, we wish to predict $\\hat{x}_{t+k}$, and plot the error of these predictions for all $k$.\n",
    "\n",
    "Consider how and why the performance of the model degrades as a function of time using the rate of growth in the error.\n",
    "\n",
    "<!--\n",
    "BEGIN QUESTION\n",
    "name: q6e\n",
    "points: 0\n",
    "manual: True\n",
    "-->"
   ]
  },
  {
   "cell_type": "code",
   "execution_count": 272,
   "id": "9fd1992b",
   "metadata": {},
   "outputs": [
    {
     "data": {
      "text/plain": [
       "Ellipsis"
      ]
     },
     "execution_count": 272,
     "metadata": {},
     "output_type": "execute_result"
    }
   ],
   "source": [
    "..."
   ]
  },
  {
   "cell_type": "markdown",
   "id": "526caa49",
   "metadata": {
    "deletable": false,
    "editable": false
   },
   "source": [
    "<!-- END QUESTION -->\n",
    "\n",
    "<!-- BEGIN QUESTION -->\n",
    "\n",
    "### Question 6f\n",
    "\n",
    "Consider a modification to the model $f(x) = x_{t+1}$ where instead $f(x) = [x_{t+1}, x_{t+2}, ..., x_{t+m}]$ for some $m > 1$. In other words, using the features $x$ that contain past and present quantities, our model *explicitly* predicts values for $m$ days in the future rather than simply the next day (i.e. $m = 1$). \n",
    "\n",
    "Train the baseline and improved model using $m = 5$ and $m = 10$. Evaluate and visualize the predictive accuracy of both models.\n",
    "\n",
    "<!--\n",
    "BEGIN QUESTION\n",
    "name: q6f\n",
    "points: 0\n",
    "manual: True\n",
    "-->"
   ]
  },
  {
   "cell_type": "code",
   "execution_count": 273,
   "id": "535e290f",
   "metadata": {},
   "outputs": [
    {
     "data": {
      "text/plain": [
       "Ellipsis"
      ]
     },
     "execution_count": 273,
     "metadata": {},
     "output_type": "execute_result"
    }
   ],
   "source": [
    "..."
   ]
  },
  {
   "cell_type": "markdown",
   "id": "cb8bc5f0",
   "metadata": {
    "deletable": false,
    "editable": false
   },
   "source": [
    "---\n",
    "\n",
    "To double-check your work, the cell below will rerun all of the autograder tests."
   ]
  },
  {
   "cell_type": "code",
   "execution_count": 274,
   "id": "dd82aee6",
   "metadata": {
    "deletable": false,
    "editable": false
   },
   "outputs": [
    {
     "data": {
      "text/plain": [
       "q1a results: All test cases passed!\n",
       "\n",
       "q1d results: All test cases passed!\n",
       "\n",
       "q1e results: All test cases passed!\n",
       "\n",
       "q5b results: All test cases passed!\n",
       "\n",
       "q5d results: All test cases passed!\n",
       "\n",
       "q5f results: All test cases passed!\n",
       "\n",
       "q5g results: All test cases passed!\n",
       "\n",
       "q5i results: All test cases passed!"
      ]
     },
     "execution_count": 274,
     "metadata": {},
     "output_type": "execute_result"
    }
   ],
   "source": [
    "grader.check_all()"
   ]
  },
  {
   "cell_type": "markdown",
   "id": "7ecfb50d",
   "metadata": {
    "deletable": false,
    "editable": false
   },
   "source": [
    "## Submission\n",
    "\n",
    "Make sure you have run all cells in your notebook in order before running the cell below, so that all images/graphs appear in the output. The cell below will generate a zip file for you to submit. **Please save before exporting!**"
   ]
  },
  {
   "cell_type": "code",
   "execution_count": 276,
   "id": "febbeabf",
   "metadata": {
    "deletable": false,
    "editable": false
   },
   "outputs": [
    {
     "data": {
      "text/html": [
       "\n",
       "            <p>Your submission has been exported. Click <a href=\"covid_part2_2021_12_12T20_10_20_605738.zip\" download=\"covid_part2_2021_12_12T20_10_20_605738.zip\" target=\"_blank\">here</a>\n",
       "            to download the zip file.</p>\n",
       "            "
      ],
      "text/plain": [
       "<IPython.core.display.HTML object>"
      ]
     },
     "metadata": {},
     "output_type": "display_data"
    }
   ],
   "source": [
    "# Save your notebook first, then run this cell to export your submission.\n",
    "grader.export()"
   ]
  },
  {
   "cell_type": "markdown",
   "id": "fd5501bd",
   "metadata": {},
   "source": [
    " "
   ]
  }
 ],
 "metadata": {
  "kernelspec": {
   "display_name": "Python 3 (ipykernel)",
   "language": "python",
   "name": "python3"
  },
  "language_info": {
   "codemirror_mode": {
    "name": "ipython",
    "version": 3
   },
   "file_extension": ".py",
   "mimetype": "text/x-python",
   "name": "python",
   "nbconvert_exporter": "python",
   "pygments_lexer": "ipython3",
   "version": "3.9.10"
  }
 },
 "nbformat": 4,
 "nbformat_minor": 5
}
